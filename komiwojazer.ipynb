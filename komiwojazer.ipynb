{
  "nbformat": 4,
  "nbformat_minor": 0,
  "metadata": {
    "colab": {
      "provenance": [],
      "authorship_tag": "ABX9TyPZ+s2wl1a5nBKeKkv4LHEu",
      "include_colab_link": true
    },
    "kernelspec": {
      "name": "python3",
      "display_name": "Python 3"
    },
    "language_info": {
      "name": "python"
    }
  },
  "cells": [
    {
      "cell_type": "markdown",
      "metadata": {
        "id": "view-in-github",
        "colab_type": "text"
      },
      "source": [
        "<a href=\"https://colab.research.google.com/github/olaz2137/SztucznaInteligencja/blob/main/komiwojazer.ipynb\" target=\"_parent\"><img src=\"https://colab.research.google.com/assets/colab-badge.svg\" alt=\"Open In Colab\"/></a>"
      ]
    },
    {
      "cell_type": "code",
      "execution_count": null,
      "metadata": {
        "colab": {
          "base_uri": "https://localhost:8080/"
        },
        "id": "eZA_b_cgAyG4",
        "outputId": "6662a446-9e22-4ee1-8269-c56e59c1c980"
      },
      "outputs": [
        {
          "output_type": "stream",
          "name": "stdout",
          "text": [
            "Nieudane inwersje: 0, Aktualny najlepszy koszt: 4919\n",
            "Generowanie losowego potomka po przekroczeniu limitu nieudanych inwersji.\n",
            "\n",
            "Najlepsze znalezione rozwiazanie:\n",
            "Trasa: [1, 2, 77, 37, 43, 72, 7, 8, 9, 10, 11, 81, 13, 78, 15, 57, 70, 18, 19, 99, 12, 55, 23, 24, 88, 26, 27, 14, 29, 30, 31, 32, 33, 93, 35, 36, 4, 38, 39, 40, 41, 42, 83, 44, 73, 46, 47, 48, 98, 50, 51, 52, 53, 54, 22, 92, 59, 58, 90, 60, 82, 66, 95, 64, 65, 62, 67, 68, 69, 34, 71, 6, 96, 74, 80, 76, 21, 89, 28, 79, 3, 61, 5, 84, 85, 86, 94, 25, 75, 16, 91, 56, 17, 87, 63, 45, 97, 49, 20, 100]\n",
            "Najlepszy koszt trasy: 3469\n"
          ]
        }
      ],
      "source": [
        "import random\n",
        "\n",
        "# Parametry problemu\n",
        "N = 100  # Liczba miast\n",
        "COST_MATRIX = [[random.randint(10, 90) if i != j else 0 for j in range(N)] for i in range(N)]  # Macierz kosztów przejazdów\n",
        "MAX_FAILED_INVERSIONS = 100  # Limit nieudanych inwersji\n",
        "\n",
        "# Funkcja celu: obliczanie kosztu trasy\n",
        "def calculate_cost(route):\n",
        "    cost = 0\n",
        "    for i in range(N - 1):\n",
        "        cost += COST_MATRIX[route[i] - 1][route[i + 1] - 1]\n",
        "    cost += COST_MATRIX[route[-1] - 1][route[0] - 1]  # Powrót do punktu startowego\n",
        "    return cost\n",
        "\n",
        "# Generowanie początkowego rodzica (trasa w kolejności 1 do N)\n",
        "def generate_initial_solution():\n",
        "    return list(range(1, N + 1))\n",
        "\n",
        "# Mutacja przez inwersję (zamiana dwóch losowych indeksów)\n",
        "def mutate(route):\n",
        "    mutated = route[:]\n",
        "    idx1, idx2 = random.sample(range(N), 2)\n",
        "    mutated[idx1], mutated[idx2] = mutated[idx2], mutated[idx1]\n",
        "    return mutated\n",
        "\n",
        "# Algorytm rozwiązywania problemu komiwojażera\n",
        "def solve_tsp():\n",
        "    parent = generate_initial_solution()\n",
        "    best_solution = parent\n",
        "    best_cost = calculate_cost(parent)\n",
        "\n",
        "    failed_inversions = 0\n",
        "\n",
        "    while failed_inversions < MAX_FAILED_INVERSIONS:\n",
        "        child = mutate(parent)\n",
        "        child_cost = calculate_cost(child)\n",
        "\n",
        "        if child_cost < best_cost:\n",
        "            best_solution = child\n",
        "            best_cost = child_cost\n",
        "            parent = child\n",
        "            # failed_inversions = 0  # Resetuj licznik nieudanych inwersji\n",
        "        else:\n",
        "            failed_inversions += 1\n",
        "\n",
        "        # Informacje diagnostyczne\n",
        "        if failed_inversions % 1000 == 0:\n",
        "            print(f\"Nieudane inwersje: {failed_inversions}, Aktualny najlepszy koszt: {best_cost}\")\n",
        "\n",
        "        # Twórz nowego losowego potomka po przekroczeniu limitu\n",
        "        if failed_inversions >= MAX_FAILED_INVERSIONS:\n",
        "            print(\"Generowanie losowego potomka po przekroczeniu limitu nieudanych inwersji.\")\n",
        "            parent = generate_initial_solution()\n",
        "            # failed_inversions = 0\n",
        "\n",
        "    return best_solution, best_cost\n",
        "\n",
        "# Uruchomienie algorytmu\n",
        "best_solution, best_cost = solve_tsp()\n",
        "\n",
        "print(\"\\nNajlepsze znalezione rozwiazanie:\")\n",
        "print(\"Trasa:\", best_solution)\n",
        "print(\"Najlepszy koszt trasy:\", best_cost)\n"
      ]
    }
  ]
}