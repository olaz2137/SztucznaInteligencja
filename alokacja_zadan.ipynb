{
  "nbformat": 4,
  "nbformat_minor": 0,
  "metadata": {
    "colab": {
      "provenance": [],
      "authorship_tag": "ABX9TyNtsYfLk/fdZRPzbexdNEK7",
      "include_colab_link": true
    },
    "kernelspec": {
      "name": "python3",
      "display_name": "Python 3"
    },
    "language_info": {
      "name": "python"
    }
  },
  "cells": [
    {
      "cell_type": "markdown",
      "metadata": {
        "id": "view-in-github",
        "colab_type": "text"
      },
      "source": [
        "<a href=\"https://colab.research.google.com/github/olaz2137/SztucznaInteligencja/blob/main/alokacja_zadan.ipynb\" target=\"_parent\"><img src=\"https://colab.research.google.com/assets/colab-badge.svg\" alt=\"Open In Colab\"/></a>"
      ]
    },
    {
      "cell_type": "code",
      "source": [
        "import random\n",
        "\n",
        "# Parametry problemu\n",
        "N = 100  # Liczba zadań\n",
        "TASK_WEIGHTS = [random.randint(10, 90) for _ in range(N)]  # Losowe wagi zadań\n",
        "NUM_PROCESSORS = 4  # Liczba procesów\n",
        "PROCESS_TIME_MULTIPLIERS = [1, 1.25, 1.5, 1.75]  # Mnożniki czasu procesów\n",
        "POPULATION_SIZE = 2  # Rozmiar populacji dla strategii ewolucyjnej (2+2)\n",
        "GENERATIONS = 100  # Liczba pokoleń"
      ],
      "metadata": {
        "id": "7d75XVUX_l44"
      },
      "execution_count": null,
      "outputs": []
    },
    {
      "cell_type": "code",
      "execution_count": null,
      "metadata": {
        "colab": {
          "base_uri": "https://localhost:8080/"
        },
        "id": "1oV496RF9ECP",
        "outputId": "33bdb860-4017-43d2-e35f-4393408a0738"
      },
      "outputs": [
        {
          "output_type": "stream",
          "name": "stdout",
          "text": [
            "Generation 0: Best Fitness = 2082.5\n",
            "Generation 10: Best Fitness = 1870.5\n",
            "Generation 20: Best Fitness = 1856.75\n",
            "Generation 30: Best Fitness = 1838.75\n",
            "Generation 40: Best Fitness = 1837\n",
            "Generation 50: Best Fitness = 1837\n",
            "Generation 60: Best Fitness = 1837\n",
            "Generation 70: Best Fitness = 1837\n",
            "Generation 80: Best Fitness = 1837\n",
            "Generation 90: Best Fitness = 1837\n",
            "\n",
            "Najlepsze znalezione rozwiazanie:\n",
            "Alokacja zadań: [2, 2, 2, 3, 4, 1, 3, 4, 4, 1, 4, 4, 4, 3, 3, 2, 2, 2, 2, 3, 4, 3, 1, 3, 1, 1, 1, 4, 2, 3, 2, 2, 1, 1, 1, 3, 4, 1, 3, 3, 2, 1, 3, 3, 2, 1, 3, 2, 2, 2, 2, 3, 3, 3, 1, 4, 1, 1, 2, 3, 4, 2, 3, 2, 2, 1, 4, 1, 1, 4, 2, 3, 3, 1, 1, 2, 4, 3, 1, 1, 1, 4, 2, 2, 2, 3, 4, 4, 1, 4, 2, 1, 1, 1, 1, 1, 4, 3, 2, 3]\n",
            "Najlepsze dopasowanie (maksymalne obciążenie procesora): 1837\n"
          ]
        }
      ],
      "source": [
        "# Funkcja celu: maksymalna suma obciążeń procesów z uwzględnieniem mnożników czasu\n",
        "# Cel: minimalizować maksymalne obciążenie procesora\n",
        "def fitness(allocation):\n",
        "    load_per_processor = [0] * NUM_PROCESSORS\n",
        "    for task_idx, processor in enumerate(allocation):\n",
        "        load_per_processor[processor - 1] += TASK_WEIGHTS[task_idx] * PROCESS_TIME_MULTIPLIERS[processor - 1]\n",
        "    return max(load_per_processor)\n",
        "\n",
        "# Generowanie losowego osobnika\n",
        "def generate_individual():\n",
        "    return [random.randint(1, NUM_PROCESSORS) for _ in range(N)]\n",
        "\n",
        "# Mutacja: zmiana losowego przydziału procesora dla losowego zadania\n",
        "def mutate(individual):\n",
        "    mutant = individual[:]\n",
        "    task_idx = random.randint(0, N - 1)\n",
        "    mutant[task_idx] = random.randint(1, NUM_PROCESSORS)\n",
        "    return mutant\n",
        "\n",
        "# Strategia ewolucyjna (2+2)\n",
        "def evolutionary_strategy():\n",
        "    # Inicjalizacja populacji\n",
        "    population = [generate_individual() for _ in range(POPULATION_SIZE)]\n",
        "\n",
        "    best_solution = None\n",
        "    best_fitness = float('inf')\n",
        "\n",
        "    for generation in range(GENERATIONS):\n",
        "        # Ocena osobników\n",
        "        population_fitness = [(ind, fitness(ind)) for ind in population]\n",
        "        population_fitness.sort(key=lambda x: x[1])  # Sortuj po dopasowaniu\n",
        "\n",
        "        # Zapis najlepszego rozwiazania\n",
        "        if population_fitness[0][1] < best_fitness:\n",
        "            best_solution = population_fitness[0][0]\n",
        "            best_fitness = population_fitness[0][1]\n",
        "\n",
        "        # Generowanie potomstwa przez mutacje\n",
        "        offspring = [mutate(parent) for parent, _ in population_fitness]\n",
        "\n",
        "        # Nowa populacja (2+2)\n",
        "        combined_population = population + offspring\n",
        "        combined_fitness = [(ind, fitness(ind)) for ind in combined_population]\n",
        "        combined_fitness.sort(key=lambda x: x[1])\n",
        "\n",
        "        # Zachowaj najlepszych 2 osobników\n",
        "        population = [ind for ind, fit in combined_fitness[:POPULATION_SIZE]]\n",
        "\n",
        "        # Informacje o postępie\n",
        "        if generation % 10 == 0:\n",
        "            print(f\"Generation {generation}: Best Fitness = {best_fitness}\")\n",
        "\n",
        "    return best_solution, best_fitness\n",
        "\n",
        "# Uruchomienie algorytmu\n",
        "best_solution, best_fitness = evolutionary_strategy()\n",
        "\n",
        "print(\"\\nNajlepsze znalezione rozwiazanie:\")\n",
        "print(\"Alokacja zadań:\", best_solution)\n",
        "print(\"Najlepsze dopasowanie (maksymalne obciążenie procesora):\", best_fitness)\n"
      ]
    }
  ]
}